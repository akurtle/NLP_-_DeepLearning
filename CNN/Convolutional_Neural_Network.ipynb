{
  "nbformat": 4,
  "nbformat_minor": 0,
  "metadata": {
    "colab": {
      "provenance": [],
      "mount_file_id": "1zXB7_9Zmi4rTJn_p0wagiVSzNtFCLb9A",
      "authorship_tag": "ABX9TyMiCcoqKQ6JZVhf8HTZjEvt",
      "include_colab_link": true
    },
    "kernelspec": {
      "name": "python3",
      "display_name": "Python 3"
    },
    "language_info": {
      "name": "python"
    }
  },
  "cells": [
    {
      "cell_type": "markdown",
      "metadata": {
        "id": "view-in-github",
        "colab_type": "text"
      },
      "source": [
        "<a href=\"https://colab.research.google.com/github/akurtle/NLP_-_DeepLearning/blob/main/CNN/Convolutional_Neural_Network.ipynb\" target=\"_parent\"><img src=\"https://colab.research.google.com/assets/colab-badge.svg\" alt=\"Open In Colab\"/></a>"
      ]
    },
    {
      "cell_type": "code",
      "execution_count": 1,
      "metadata": {
        "id": "ZEUDkN9TBAkk"
      },
      "outputs": [],
      "source": [
        "import numpy as np\n",
        "import pandas as pd\n",
        "import tensorflow as tf"
      ]
    },
    {
      "cell_type": "code",
      "source": [
        "from keras.preprocessing.image import ImageDataGenerator"
      ],
      "metadata": {
        "id": "tEWS4jQQNoZy"
      },
      "execution_count": 2,
      "outputs": []
    },
    {
      "cell_type": "code",
      "source": [
        "train_data=ImageDataGenerator(\n",
        "    rescale=1./255,\n",
        "    shear_range=0.2,\n",
        "    zoom_range=0.2,\n",
        "    horizontal_flip=True\n",
        ")\n",
        "\n",
        "training_set = train_data.flow_from_directory(\n",
        "    '/content/drive/MyDrive/dataset/training_set',\n",
        "    target_size=(64,64),\n",
        "    batch_size=32,\n",
        "    class_mode='binary'\n",
        ")\n"
      ],
      "metadata": {
        "colab": {
          "base_uri": "https://localhost:8080/"
        },
        "id": "WYLVWjmDBEs5",
        "outputId": "fee13f8a-42b2-4ccb-b88a-6c41c1e0ed71"
      },
      "execution_count": 3,
      "outputs": [
        {
          "output_type": "stream",
          "name": "stdout",
          "text": [
            "Found 8000 images belonging to 2 classes.\n"
          ]
        }
      ]
    },
    {
      "cell_type": "code",
      "source": [
        "test_data= ImageDataGenerator(rescale=1./255)\n",
        "\n",
        "test_set = test_data.flow_from_directory(\n",
        "    '/content/drive/MyDrive/dataset/test_set',\n",
        "    target_size=(64,64),\n",
        "    batch_size=32,\n",
        "    class_mode='binary'\n",
        ")"
      ],
      "metadata": {
        "id": "-AcCm-JShm6Y",
        "colab": {
          "base_uri": "https://localhost:8080/"
        },
        "outputId": "53452c82-f083-46e1-98dd-29885d7526f6"
      },
      "execution_count": 4,
      "outputs": [
        {
          "output_type": "stream",
          "name": "stdout",
          "text": [
            "Found 2000 images belonging to 2 classes.\n"
          ]
        }
      ]
    },
    {
      "cell_type": "code",
      "source": [
        "cnn = tf.keras.models.Sequential()"
      ],
      "metadata": {
        "id": "TSE0bZkNem8K"
      },
      "execution_count": 5,
      "outputs": []
    },
    {
      "cell_type": "code",
      "source": [
        "cnn.add(tf.keras.layers.Conv2D(filters=32,kernel_size=3,activation='relu',input_shape=[64,64,3]))"
      ],
      "metadata": {
        "id": "5nAMLGuJe4M6"
      },
      "execution_count": 6,
      "outputs": []
    },
    {
      "cell_type": "code",
      "source": [
        "cnn.add(tf.keras.layers.MaxPool2D(pool_size=(2,2),strides=2))"
      ],
      "metadata": {
        "id": "VE_jh3ecf2MJ"
      },
      "execution_count": 7,
      "outputs": []
    },
    {
      "cell_type": "code",
      "source": [
        "cnn.add(tf.keras.layers.Conv2D(filters=32,kernel_size=3,activation='relu'))\n",
        "cnn.add(tf.keras.layers.MaxPool2D(pool_size=(2,2),strides=2))"
      ],
      "metadata": {
        "id": "_kUfhVkxgoI5"
      },
      "execution_count": 8,
      "outputs": []
    },
    {
      "cell_type": "code",
      "source": [
        "cnn.add(tf.keras.layers.Flatten())"
      ],
      "metadata": {
        "id": "1q4i71GCg3x5"
      },
      "execution_count": 9,
      "outputs": []
    },
    {
      "cell_type": "code",
      "source": [
        "cnn.add(tf.keras.layers.Dense(units=128,activation='relu'))"
      ],
      "metadata": {
        "id": "pk-lUwY0hHDV"
      },
      "execution_count": 10,
      "outputs": []
    },
    {
      "cell_type": "code",
      "source": [
        "cnn.add(tf.keras.layers.Dense(units=1,activation='sigmoid'))"
      ],
      "metadata": {
        "id": "LDIc4zt-hiU9"
      },
      "execution_count": 11,
      "outputs": []
    },
    {
      "cell_type": "code",
      "source": [
        "#Training the cnn\n",
        "cnn.compile(optimizer='adam',loss='binary_crossentropy',metrics=['accuracy'])"
      ],
      "metadata": {
        "id": "yCs7GPkHhsqT"
      },
      "execution_count": 12,
      "outputs": []
    },
    {
      "cell_type": "code",
      "source": [
        "cnn.fit(x=training_set,validation_data=test_set,epochs=25)"
      ],
      "metadata": {
        "colab": {
          "base_uri": "https://localhost:8080/"
        },
        "id": "w6x-4tHViTX_",
        "outputId": "6284d37c-4754-45d8-b6aa-edb88f43ee50"
      },
      "execution_count": 13,
      "outputs": [
        {
          "output_type": "stream",
          "name": "stdout",
          "text": [
            "Epoch 1/25\n",
            "250/250 [==============================] - 1660s 7s/step - loss: 0.6687 - accuracy: 0.5849 - val_loss: 0.6159 - val_accuracy: 0.6770\n",
            "Epoch 2/25\n",
            "250/250 [==============================] - 78s 312ms/step - loss: 0.6012 - accuracy: 0.6779 - val_loss: 0.5569 - val_accuracy: 0.7215\n",
            "Epoch 3/25\n",
            "250/250 [==============================] - 79s 316ms/step - loss: 0.5410 - accuracy: 0.7219 - val_loss: 0.5426 - val_accuracy: 0.7285\n",
            "Epoch 4/25\n",
            "250/250 [==============================] - 80s 320ms/step - loss: 0.5167 - accuracy: 0.7449 - val_loss: 0.4855 - val_accuracy: 0.7720\n",
            "Epoch 5/25\n",
            "250/250 [==============================] - 82s 328ms/step - loss: 0.4991 - accuracy: 0.7560 - val_loss: 0.5126 - val_accuracy: 0.7590\n",
            "Epoch 6/25\n",
            "250/250 [==============================] - 79s 314ms/step - loss: 0.4707 - accuracy: 0.7769 - val_loss: 0.4735 - val_accuracy: 0.7755\n",
            "Epoch 7/25\n",
            "250/250 [==============================] - 79s 315ms/step - loss: 0.4493 - accuracy: 0.7865 - val_loss: 0.4969 - val_accuracy: 0.7675\n",
            "Epoch 8/25\n",
            "250/250 [==============================] - 80s 321ms/step - loss: 0.4354 - accuracy: 0.7934 - val_loss: 0.4558 - val_accuracy: 0.7825\n",
            "Epoch 9/25\n",
            "250/250 [==============================] - 78s 312ms/step - loss: 0.4199 - accuracy: 0.8035 - val_loss: 0.4817 - val_accuracy: 0.7800\n",
            "Epoch 10/25\n",
            "250/250 [==============================] - 81s 322ms/step - loss: 0.4135 - accuracy: 0.8065 - val_loss: 0.4352 - val_accuracy: 0.7965\n",
            "Epoch 11/25\n",
            "250/250 [==============================] - 83s 331ms/step - loss: 0.3923 - accuracy: 0.8171 - val_loss: 0.4522 - val_accuracy: 0.7955\n",
            "Epoch 12/25\n",
            "250/250 [==============================] - 82s 327ms/step - loss: 0.3819 - accuracy: 0.8295 - val_loss: 0.4342 - val_accuracy: 0.8015\n",
            "Epoch 13/25\n",
            "250/250 [==============================] - 81s 325ms/step - loss: 0.3687 - accuracy: 0.8338 - val_loss: 0.4512 - val_accuracy: 0.8025\n",
            "Epoch 14/25\n",
            "250/250 [==============================] - 81s 324ms/step - loss: 0.3512 - accuracy: 0.8449 - val_loss: 0.4469 - val_accuracy: 0.8060\n",
            "Epoch 15/25\n",
            "250/250 [==============================] - 82s 326ms/step - loss: 0.3416 - accuracy: 0.8439 - val_loss: 0.5194 - val_accuracy: 0.7810\n",
            "Epoch 16/25\n",
            "250/250 [==============================] - 82s 326ms/step - loss: 0.3258 - accuracy: 0.8560 - val_loss: 0.5136 - val_accuracy: 0.7830\n",
            "Epoch 17/25\n",
            "250/250 [==============================] - 81s 324ms/step - loss: 0.3276 - accuracy: 0.8562 - val_loss: 0.4348 - val_accuracy: 0.8155\n",
            "Epoch 18/25\n",
            "250/250 [==============================] - 81s 324ms/step - loss: 0.3002 - accuracy: 0.8676 - val_loss: 0.5255 - val_accuracy: 0.7855\n",
            "Epoch 19/25\n",
            "250/250 [==============================] - 83s 331ms/step - loss: 0.2946 - accuracy: 0.8746 - val_loss: 0.5587 - val_accuracy: 0.7690\n",
            "Epoch 20/25\n",
            "250/250 [==============================] - 82s 327ms/step - loss: 0.2831 - accuracy: 0.8789 - val_loss: 0.4910 - val_accuracy: 0.8035\n",
            "Epoch 21/25\n",
            "250/250 [==============================] - 85s 340ms/step - loss: 0.2674 - accuracy: 0.8863 - val_loss: 0.4835 - val_accuracy: 0.8140\n",
            "Epoch 22/25\n",
            "250/250 [==============================] - 83s 329ms/step - loss: 0.2667 - accuracy: 0.8866 - val_loss: 0.4946 - val_accuracy: 0.8055\n",
            "Epoch 23/25\n",
            "250/250 [==============================] - 80s 322ms/step - loss: 0.2499 - accuracy: 0.8911 - val_loss: 0.4968 - val_accuracy: 0.8075\n",
            "Epoch 24/25\n",
            "250/250 [==============================] - 81s 323ms/step - loss: 0.2318 - accuracy: 0.9055 - val_loss: 0.5078 - val_accuracy: 0.8135\n",
            "Epoch 25/25\n",
            "250/250 [==============================] - 82s 327ms/step - loss: 0.2349 - accuracy: 0.9040 - val_loss: 0.4960 - val_accuracy: 0.8095\n"
          ]
        },
        {
          "output_type": "execute_result",
          "data": {
            "text/plain": [
              "<keras.src.callbacks.History at 0x7c9dd0061210>"
            ]
          },
          "metadata": {},
          "execution_count": 13
        }
      ]
    },
    {
      "cell_type": "code",
      "source": [
        "def predict(path):\n",
        "  from keras.preprocessing import image\n",
        "  test_image = image.load_img(path,\n",
        "                              target_size=(64,64))\n",
        "\n",
        "  test_image = image.img_to_array(test_image)\n",
        "  test_image = np.expand_dims(test_image,axis=0)\n",
        "\n",
        "  result= cnn.predict(test_image)\n",
        "\n",
        "  training_set.class_indices\n",
        "\n",
        "  if(result[0][0]==0):\n",
        "    prediction='dog'\n",
        "  else:\n",
        "    prediction='cat'\n",
        "\n",
        "\n",
        "  print(prediction)\n",
        "\n",
        "\n"
      ],
      "metadata": {
        "id": "GunU2s1cjGJo"
      },
      "execution_count": 27,
      "outputs": []
    },
    {
      "cell_type": "code",
      "source": [
        "predict('/content/drive/MyDrive/dataset/single_prediction/cat_or_dog_1.jpg')"
      ],
      "metadata": {
        "colab": {
          "base_uri": "https://localhost:8080/"
        },
        "id": "ZfI49odFlWNL",
        "outputId": "d64e6709-ea3d-4d36-b477-ec87552069c3"
      },
      "execution_count": 28,
      "outputs": [
        {
          "output_type": "stream",
          "name": "stdout",
          "text": [
            "1/1 [==============================] - 0s 39ms/step\n",
            "cat\n"
          ]
        }
      ]
    },
    {
      "cell_type": "code",
      "source": [],
      "metadata": {
        "id": "-xAuos5rlcNn"
      },
      "execution_count": 15,
      "outputs": []
    }
  ]
}